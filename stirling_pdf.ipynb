{
  "cells": [
    {
      "cell_type": "markdown",
      "metadata": {
        "id": "view-in-github",
        "colab_type": "text"
      },
      "source": [
        "<a href=\"https://colab.research.google.com/github/cashcowlabs-us/n8n/blob/master/stirling_pdf.ipynb\" target=\"_parent\"><img src=\"https://colab.research.google.com/assets/colab-badge.svg\" alt=\"Open In Colab\"/></a>"
      ]
    },
    {
      "cell_type": "code",
      "execution_count": 1,
      "metadata": {
        "id": "RhT5WlZ8Loox",
        "colab": {
          "base_uri": "https://localhost:8080/"
        },
        "outputId": "f43b72c6-5422-443a-f0c2-aa08965884ea"
      },
      "outputs": [
        {
          "output_type": "stream",
          "name": "stdout",
          "text": [
            "Collecting udocker\n",
            "  Downloading udocker-1.3.17-py2.py3-none-any.whl.metadata (37 kB)\n",
            "Downloading udocker-1.3.17-py2.py3-none-any.whl (119 kB)\n",
            "\u001b[?25l   \u001b[90m━━━━━━━━━━━━━━━━━━━━━━━━━━━━━━━━━━━━━━━━\u001b[0m \u001b[32m0.0/119.6 kB\u001b[0m \u001b[31m?\u001b[0m eta \u001b[36m-:--:--\u001b[0m\r\u001b[2K   \u001b[90m━━━━━━━━━━━━━━━━━━━━━━━━━━━━━━━━━━━━━━━━\u001b[0m \u001b[32m119.6/119.6 kB\u001b[0m \u001b[31m4.4 MB/s\u001b[0m eta \u001b[36m0:00:00\u001b[0m\n",
            "\u001b[?25hInstalling collected packages: udocker\n",
            "Successfully installed udocker-1.3.17\n"
          ]
        }
      ],
      "source": [
        "!pip install udocker"
      ]
    },
    {
      "cell_type": "code",
      "execution_count": 2,
      "metadata": {
        "id": "kSXxAmqVL23-",
        "colab": {
          "base_uri": "https://localhost:8080/"
        },
        "outputId": "9e588d6f-0edc-4c8d-af87-605380592f62"
      },
      "outputs": [
        {
          "output_type": "stream",
          "name": "stdout",
          "text": [
            "Info: creating repo: /root/.udocker\n",
            "Info: udocker command line interface 1.3.17\n",
            "Info: searching for udockertools >= 1.2.11\n",
            "Info: installing udockertools 1.2.11\n",
            "Info: installation of udockertools successful\n"
          ]
        }
      ],
      "source": [
        "!udocker --allow-root install"
      ]
    },
    {
      "cell_type": "code",
      "source": [
        "!pip install pyngrok"
      ],
      "metadata": {
        "colab": {
          "base_uri": "https://localhost:8080/"
        },
        "id": "or2HPhK5Qc19",
        "outputId": "a2c46552-6986-411c-ca1f-cb8a08f348ff"
      },
      "execution_count": 1,
      "outputs": [
        {
          "output_type": "stream",
          "name": "stdout",
          "text": [
            "Collecting pyngrok\n",
            "  Downloading pyngrok-7.2.1-py3-none-any.whl.metadata (8.3 kB)\n",
            "Requirement already satisfied: PyYAML>=5.1 in /usr/local/lib/python3.10/dist-packages (from pyngrok) (6.0.2)\n",
            "Downloading pyngrok-7.2.1-py3-none-any.whl (22 kB)\n",
            "Installing collected packages: pyngrok\n",
            "Successfully installed pyngrok-7.2.1\n"
          ]
        }
      ]
    },
    {
      "cell_type": "code",
      "execution_count": 4,
      "metadata": {
        "id": "B3sHZlk8NdSO"
      },
      "outputs": [],
      "source": [
        "!mkdir -p /content/trainingData /content/extraConfigs /content/logs"
      ]
    },
    {
      "cell_type": "code",
      "source": [
        "!ngrok authtoken 2pXIuQEmTznppDTOISe0V4yflmT_5QnfaUZAhovGwGFSKxXRM"
      ],
      "metadata": {
        "colab": {
          "base_uri": "https://localhost:8080/"
        },
        "id": "vcLNpGaiRqwy",
        "outputId": "f95e16ab-5982-4f93-9a7a-bb0ed6f04ec0"
      },
      "execution_count": 5,
      "outputs": [
        {
          "output_type": "stream",
          "name": "stdout",
          "text": [
            "Authtoken saved to configuration file: /root/.config/ngrok/ngrok.yml\n"
          ]
        }
      ]
    },
    {
      "cell_type": "code",
      "execution_count": 6,
      "metadata": {
        "id": "ak9rDFSmNf9B",
        "colab": {
          "base_uri": "https://localhost:8080/"
        },
        "outputId": "e0730723-0a48-4d62-c8e4-aade44e386e9"
      },
      "outputs": [
        {
          "output_type": "stream",
          "name": "stdout",
          "text": [
            "Public URL: NgrokTunnel: \"https://7432-34-106-44-208.ngrok-free.app\" -> \"http://localhost:8081\"\n"
          ]
        }
      ],
      "source": [
        "from pyngrok import ngrok\n",
        "import subprocess\n",
        "import time\n",
        "\n",
        "\n",
        "# Start the container as a background process\n",
        "container_command = [\n",
        "    \"udocker\", \"--allow-root\", \"run\",\n",
        "    \"-p\", \"8081:8080\",\n",
        "    \"-v\", \"/content/trainingData:/usr/share/tessdata\",\n",
        "    \"-v\", \"/content/extraConfigs:/configs\",\n",
        "    \"-v\", \"/content/logs:/logs\",\n",
        "    \"-e\", \"DOCKER_ENABLE_SECURITY=false\",\n",
        "    \"-e\", \"INSTALL_BOOK_AND_ADVANCED_HTML_OPS=false\",\n",
        "    \"-e\", \"LANGS=en_GB\",\n",
        "    \"stirlingtools/stirling-pdf:latest\"\n",
        "]\n",
        "\n",
        "# Run container in the background\n",
        "subprocess.Popen(container_command)\n",
        "\n",
        "# Give the container some time to start\n",
        "time.sleep(5)\n",
        "\n",
        "# Start ngrok on port 8081\n",
        "public_url = ngrok.connect(8081)\n",
        "print(f\"Public URL: {public_url}\")\n"
      ]
    }
  ],
  "metadata": {
    "colab": {
      "provenance": [],
      "authorship_tag": "ABX9TyMkDcuCzQDC/cDL0Tum8mTb",
      "include_colab_link": true
    },
    "kernelspec": {
      "display_name": "Python 3",
      "name": "python3"
    },
    "language_info": {
      "name": "python"
    }
  },
  "nbformat": 4,
  "nbformat_minor": 0
}